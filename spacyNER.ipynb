{
  "nbformat": 4,
  "nbformat_minor": 0,
  "metadata": {
    "colab": {
      "provenance": []
    },
    "kernelspec": {
      "name": "python3",
      "display_name": "Python 3"
    },
    "accelerator": "GPU",
    "gpuClass": "standard"
  },
  "cells": [
    {
      "cell_type": "markdown",
      "source": [
        "<center>\n",
        "<img src=\"https://upload.wikimedia.org/wikipedia/commons/4/47/Acronimo_y_nombre_uc3m.png\"/>\n",
        "\n",
        "<img src=\"https://mirrors.creativecommons.org/presskit/buttons/88x31/png/by-nc-sa.png\" width=15%/>\n",
        "</center>"
      ],
      "metadata": {
        "id": "UZkuRuMO0UiU"
      }
    },
    {
      "cell_type": "markdown",
      "metadata": {
        "id": "N-w88mQTOE_5"
      },
      "source": [
        "# Reconocimiento de Entidades con Spacy\n",
        "\n",
        "\n",
        "\n",
        "El reconocimiento de entidades nombradas (NER, por sus siglas en inglés) es probablemente el primer paso hacia la extracción de información que busca localizar y clasificar entidades nombradas en el texto en categorías predefinidas, como nombres de personas, organizaciones, ubicaciones, expresiones de tiempo, cantidades, valores monetarios, porcentajes, etc.\n",
        "\n",
        "NER se utiliza en muchos campos de Procesamiento de Lenguaje Natural (PLN).\n",
        "\n",
        "En este cuaderno veremos cómo Spacy puede manejar esta tarea.\n",
        "\n",
        "Primero, debemos instalar Spacy."
      ]
    },
    {
      "cell_type": "code",
      "metadata": {
        "id": "Q2UpxY_eODp-"
      },
      "source": [
        "!pip install -q spacy\n",
        "# download a model\n",
        "!python -m spacy download en_core_web_sm\n",
        "\n"
      ],
      "execution_count": null,
      "outputs": []
    },
    {
      "cell_type": "markdown",
      "metadata": {
        "id": "2HkA-9QJwJ-f"
      },
      "source": [
        "Vamos ahora a procesar un texto y obtener sus entidades:"
      ]
    },
    {
      "cell_type": "code",
      "metadata": {
        "id": "ODhJ96qxQj9E"
      },
      "source": [
        "article = '''\n",
        "Asian shares skidded on Tuesday after a rout in tech stocks put Wall Street to the sword, while a\n",
        "sharp drop in oil prices and political risks in Europe pushed the dollar to 16-month highs as investors dumped\n",
        "riskier assets. MSCI’s broadest index of Asia-Pacific shares outside Japan dropped 1.7 percent to a 1-1/2\n",
        "week trough, with Australian shares sinking 1.6 percent. Japan’s Nikkei dived 3.1 percent led by losses in\n",
        "electric machinery makers and suppliers of Apple’s iphone parts. Sterling fell to $1.286 after three straight\n",
        "sessions of losses took it to the lowest since Nov.1 as there were still considerable unresolved issues with the\n",
        "European Union over Brexit, British Prime Minister Theresa May said on Monday.'''\n",
        "\n",
        "import spacy\n",
        "\n",
        "nlp = spacy.load('en_core_web_sm')\n",
        "document = nlp(article)\n",
        "\n",
        "print('Oración original: {}'.format(article))\n",
        "print()\n",
        "\n",
        "for entity in document.ents:\n",
        "    print('Type: {}, Value: {}, star: {}, end: {}'.format(entity.label_, entity.text,entity.start_char, entity.end_char))\n"
      ],
      "execution_count": null,
      "outputs": []
    },
    {
      "cell_type": "markdown",
      "source": [
        "Spacy también proporciona un paquete **displacy** para resaltar las menciones de entidades y sus tipos en un texto, de una forma más visual y atractiva:"
      ],
      "metadata": {
        "id": "aXhQ8GOntHpI"
      }
    },
    {
      "cell_type": "code",
      "metadata": {
        "id": "AtYaYwbRHwW8"
      },
      "source": [
        "from spacy import displacy\n",
        "\n",
        "displacy.render(nlp(str(article)), jupyter=True, style='ent')\n"
      ],
      "execution_count": null,
      "outputs": []
    },
    {
      "cell_type": "markdown",
      "metadata": {
        "id": "uKOJ-kZYuJKM"
      },
      "source": [
        "## NER en Español\n",
        "\n",
        "Spacy también nos permite reconocer entidades en Español.\n"
      ]
    },
    {
      "cell_type": "code",
      "source": [
        "import locale\n",
        "locale.getpreferredencoding = lambda: \"UTF-8\""
      ],
      "metadata": {
        "id": "gkMvwrMf2tdx"
      },
      "execution_count": 4,
      "outputs": []
    },
    {
      "cell_type": "code",
      "source": [
        "!python -m spacy download es_core_news_sm"
      ],
      "metadata": {
        "id": "GmhNFF-Z2VL5"
      },
      "execution_count": null,
      "outputs": []
    },
    {
      "cell_type": "markdown",
      "source": [
        "Vamos a procesar un texto en español para ver sus entidades:"
      ],
      "metadata": {
        "id": "nl6kC6FevnWY"
      }
    },
    {
      "cell_type": "code",
      "metadata": {
        "id": "Ef7reFbdGoUQ"
      },
      "source": [
        "article = '''\n",
        "Junts per Catalunya opta ahora por no poner palos en las ruedas para que Esquerra facilite la investidura de Pedro Sánchez.\n",
        "La formación que lidera Carles Puigdemont —a la espera de que la justicia belga decida sobre su extradición— anunció este\n",
        "martes que retira una moción sobre la autodeterminación, que tenía que ser votada hoy miércoles en el Parlament y que ponía a ERC\n",
        " en una situación comprometida. La decisión, que generó mucho debate interno, se gestó en la reunión que tuvieron\n",
        " el expresident y varios cargos electos de Junts, el pasado lunes en Bélgica..'''\n",
        "\n",
        "import spacy\n",
        "\n",
        "nlp = spacy.load('es_core_news_sm')\n",
        "document = nlp(article)\n",
        "\n",
        "print('Original Sentence: %s' % (article))\n",
        "\n",
        "for entity in document.ents:\n",
        "    print('Type: {}, Value: {}, star: {}, end: {}'.format(entity.label_, entity.text,entity.start_char, entity.end_char))\n"
      ],
      "execution_count": null,
      "outputs": []
    },
    {
      "cell_type": "code",
      "metadata": {
        "id": "4_MyyMJJHs7Y"
      },
      "source": [
        "displacy.render(nlp(str(article)), jupyter=True, style='ent')\n"
      ],
      "execution_count": null,
      "outputs": []
    },
    {
      "cell_type": "markdown",
      "source": [
        "## Limitaciones de Spacy\n",
        "\n",
        "Desgraciadamente, Spacy no es capaz de detectar cualqueir tipo de entidades. En el siguiente ejemplo, podemos ver que no puede reconocer entidades del dominio biomédico."
      ],
      "metadata": {
        "id": "HdRMxjEDtUoe"
      }
    },
    {
      "cell_type": "code",
      "metadata": {
        "id": "lPIar5iXhC2o"
      },
      "source": [
        "text=\"\"\"Benz(a)anthracene is a polycyclic aromatic hydrocarbon. The phosphoinositide, phosphatidylinositol-3,4,5-trisphosphate (PI(3,4,5)P3), is a key signaling lipid.\"\"\"\n",
        "\n",
        "import spacy\n",
        "nlp = spacy.load('en_core_web_sm')\n",
        "doc = nlp(text)\n",
        "for entity in doc.ents:\n",
        "    print('Type: {}, Value: {}, star: {}, end: {}'.format(entity.label_, entity.text,entity.start_char, entity.end_char))\n",
        "\n",
        "displacy.render(nlp(str(text)), jupyter=True, style='ent')\n"
      ],
      "execution_count": null,
      "outputs": []
    }
  ]
}