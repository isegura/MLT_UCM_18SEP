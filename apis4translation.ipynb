{
  "nbformat": 4,
  "nbformat_minor": 0,
  "metadata": {
    "colab": {
      "provenance": [],
      "toc_visible": true
    },
    "kernelspec": {
      "name": "python3",
      "display_name": "Python 3"
    },
    "language_info": {
      "name": "python"
    }
  },
  "cells": [
    {
      "cell_type": "markdown",
      "source": [
        "# Algunas APIs para traducción automática\n",
        "\n",
        "En este notebook, vamos a presentar algunas de las principales librerías de Python para traducción automática.\n"
      ],
      "metadata": {
        "id": "kb8KtNCuABYp"
      }
    },
    {
      "cell_type": "markdown",
      "source": [
        "## API de Google Translate\n",
        "\n",
        "Google Translate ofrece una API potente para traducción automática. Es gratuita con límite de uso mensual (aunque suficiente para proyectos pequeños).\n",
        "\n",
        "El primer paso será instalar la librería:"
      ],
      "metadata": {
        "id": "egjfk9CaAYot"
      }
    },
    {
      "cell_type": "code",
      "source": [
        "!pip install googletrans==4.0.0-rc1"
      ],
      "metadata": {
        "id": "lWzq0LPo_OLP"
      },
      "execution_count": null,
      "outputs": []
    },
    {
      "cell_type": "markdown",
      "source": [
        "A continuación, vamos a importar la clase Translator. Crearemos un objeto de esta clase e invocaremos a su método translate para traducir un texto de inglés a español:"
      ],
      "metadata": {
        "id": "2ar-YXIlBNQq"
      }
    },
    {
      "cell_type": "code",
      "execution_count": null,
      "metadata": {
        "id": "JJ-N9x9a_KG-"
      },
      "outputs": [],
      "source": [
        "from googletrans import Translator\n",
        "\n",
        "translator = Translator()\n",
        "translation = translator.translate('The cat is sleeping', src='en', dest='es')\n",
        "print(translation.text)"
      ]
    },
    {
      "cell_type": "markdown",
      "source": [
        "Si ejecutas la siguiente celda, te mostrará los idiomas disponibles:"
      ],
      "metadata": {
        "id": "5qH6RjrvAwjg"
      }
    },
    {
      "cell_type": "code",
      "source": [
        "from googletrans import LANGUAGES\n",
        "\n",
        "# Imprime la lista de idiomas soportados\n",
        "for code, language in LANGUAGES.items():\n",
        "    print(f\"{code}: {language}\")"
      ],
      "metadata": {
        "id": "33F1oyMxA4Jd"
      },
      "execution_count": null,
      "outputs": []
    },
    {
      "cell_type": "markdown",
      "source": [
        "Prueba tú mism@!!!\n",
        "\n",
        "Distintos pares y distintos pares de idiomas"
      ],
      "metadata": {
        "id": "4Hm510v5AnNX"
      }
    },
    {
      "cell_type": "code",
      "source": [
        "translation = translator.translate('El gato está durmiendo', src='es', dest='pt')\n",
        "print(translation.text)"
      ],
      "metadata": {
        "id": "zd1Nyq1EBeeN"
      },
      "execution_count": null,
      "outputs": []
    },
    {
      "cell_type": "markdown",
      "source": [
        "## translate.py\n",
        "\n",
        "Es una librería que proporciona una interfaz unificada para varios servicios de traducción, como Google, Microsoft, Yandex, entre otros."
      ],
      "metadata": {
        "id": "uWDdT1iwEPZK"
      }
    },
    {
      "cell_type": "code",
      "source": [
        "!pip install translate"
      ],
      "metadata": {
        "id": "i9dPS3dmEbXj"
      },
      "execution_count": null,
      "outputs": []
    },
    {
      "cell_type": "markdown",
      "source": [
        "La librería por defecto utiliza Google Translate.\n",
        "\n",
        "Incluye un módulo de detección de idioma."
      ],
      "metadata": {
        "id": "bYdt52d4EvRM"
      }
    },
    {
      "cell_type": "code",
      "source": [
        "from translate import Translator\n",
        "\n",
        "tr = Translator(to_lang=\"es\")\n",
        "translation = tr.translate(\"The cat is sleeping\")\n",
        "print(translation)"
      ],
      "metadata": {
        "id": "NKrW5OHHEXsf"
      },
      "execution_count": null,
      "outputs": []
    },
    {
      "cell_type": "markdown",
      "source": [
        "Para utilizar otro servicio (por ejemplo, microsoft o yandex) debes especificarlo en el constructor de Translator, con el argumento provider:"
      ],
      "metadata": {
        "id": "VsV3RRlXGIHm"
      }
    },
    {
      "cell_type": "code",
      "source": [
        "tr = Translator(provider=\"microsoft\", to_lang='es')\n",
        "translation = tr.translate('Hello, world!')\n",
        "print(translation)"
      ],
      "metadata": {
        "id": "ymzCuPKWFE3l"
      },
      "execution_count": null,
      "outputs": []
    },
    {
      "cell_type": "markdown",
      "source": [
        "##  Otras APIs\n",
        "\n",
        "- TextBlob\n",
        "- DeepL (https://www.deepl.com/en/pro-api)\n",
        "- Microsoft Azure AI translator (https://learn.microsoft.com/en-us/azure/ai-services/translator/)\n",
        "\n",
        "Todas incluyen un servicio gratuito pero limitado.\n",
        "En el caso de DeepL y Microsoft Azure AI es necesario obtener previamente unas claves de acceso.\n"
      ],
      "metadata": {
        "id": "CPEiVHECCh9B"
      }
    }
  ]
}